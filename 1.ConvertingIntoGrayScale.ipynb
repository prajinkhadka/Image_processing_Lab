{
 "cells": [
  {
   "cell_type": "code",
   "execution_count": 1,
   "metadata": {},
   "outputs": [
    {
     "name": "stdout",
     "output_type": "stream",
     "text": [
      "(200, 200, 3)\n",
      "[[117 115 111 ...   3   0   4]\n",
      " [127 122 115 ...   7   3   3]\n",
      " [135 127 120 ...   6   8   8]\n",
      " ...\n",
      " [143 143 144 ... 218 236 237]\n",
      " [143 140 144 ... 205 232 242]\n",
      " [147 141 145 ... 178 215 239]]\n"
     ]
    }
   ],
   "source": [
    "#Opening an image,printing its shape and converting into grayscale\n",
    "\n",
    "#import numpy and open-cv\n",
    "import numpy as np\n",
    "import cv2 \n",
    "from matplotlib import pyplot as plt\n",
    "\n",
    "#Read the image into img\n",
    "img = cv2.imread('prajin.jpg')\n",
    "\n",
    "\n",
    "#display image\n",
    "cv2.imshow('pic',img)\n",
    "\n",
    "#Change picture into grayscale and display it\n",
    "img1 = cv2.imread('pic.jpg',0)\n",
    "cv2.imshow('GrayPic',img1)\n",
    "\n",
    "#display image indefinitely until closed\n",
    "cv2.waitKey(0)\n",
    "\n",
    "#clear windows\n",
    "cv2.destroyAllWindows()\n",
    "\n",
    "#shape returns a tuple of the number of rows, columns, and channels (if the image is color)\n",
    "print(img.shape)\n",
    "\n",
    "print(img[:,:,0])"
   ]
  },
  {
   "cell_type": "code",
   "execution_count": null,
   "metadata": {},
   "outputs": [],
   "source": []
  }
 ],
 "metadata": {
  "kernelspec": {
   "display_name": "Python 3",
   "language": "python",
   "name": "python3"
  },
  "language_info": {
   "codemirror_mode": {
    "name": "ipython",
    "version": 3
   },
   "file_extension": ".py",
   "mimetype": "text/x-python",
   "name": "python",
   "nbconvert_exporter": "python",
   "pygments_lexer": "ipython3",
   "version": "3.8.1"
  }
 },
 "nbformat": 4,
 "nbformat_minor": 2
}
