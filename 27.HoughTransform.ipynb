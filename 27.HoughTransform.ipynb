{
 "cells": [
  {
   "cell_type": "code",
   "execution_count": 1,
   "metadata": {},
   "outputs": [
    {
     "data": {
      "image/png": "[encoded data removed]",
      "text/plain": [
       "<Figure size 432x288 with 3 Axes>"
      ]
     },
     "metadata": {},
     "output_type": "display_data"
    }
   ],
   "source": [
    "import cv2\n",
    "import numpy as np\n",
    "import matplotlib.pyplot as plt\n",
    "\n",
    "img = cv2.imread('soduku.png')\n",
    "\n",
    "#Convert image to grayscale\n",
    "gray = cv2. cvtColor(img, cv2. COLOR_BGR2GRAY)\n",
    "\n",
    "#Apply edge detection\n",
    "edges = cv2.Canny(gray,50,150,apertureSize = 3)\n",
    "\n",
    "#returns array of r and theta values\n",
    "lines = cv2.HoughLines(edges,1,np.pi/180,200)\n",
    "\n",
    "for line in lines:\n",
    "    r,theta = line[0]\n",
    "    \n",
    "    a = np.cos(theta)\n",
    "    b = np.sin(theta)\n",
    "    \n",
    "    x0 = a*r\n",
    "    y0 = b*r\n",
    "    \n",
    "    #Store rounded off values\n",
    "    x1 = int(x0 + 1000*(-b))\n",
    "    y1 = int(y0 + 1000*(a))\n",
    "    x2 = int(x0 - 1000*(-b))\n",
    "    y2 = int(y0 - 1000*(a))\n",
    "    \n",
    "    img2 = cv2.line(img,(x1,y1),(x2,y2),(0,0,255),2)\n",
    "    \n",
    "plt.subplot(131),plt.imshow(img,cmap = 'gray')\n",
    "plt.title('Original image'),plt.xticks([]),plt.yticks([])\n",
    "\n",
    "plt.subplot(132),plt.imshow(edges,cmap = 'gray')\n",
    "plt.title('Canny Edge'),plt.xticks([]),plt.yticks([])\n",
    "\n",
    "plt.subplot(133),plt.imshow(img2,cmap = 'gray')\n",
    "plt.title('Hough Transform'),plt.xticks([]),plt.yticks([])\n",
    "\n",
    "plt.show()"
   ]
  },
  {
   "cell_type": "code",
   "execution_count": null,
   "metadata": {},
   "outputs": [],
   "source": []
  }
 ],
 "metadata": {
  "kernelspec": {
   "display_name": "Python 3",
   "language": "python",
   "name": "python3"
  },
  "language_info": {
   "codemirror_mode": {
    "name": "ipython",
    "version": 3
   },
   "file_extension": ".py",
   "mimetype": "text/x-python",
   "name": "python",
   "nbconvert_exporter": "python",
   "pygments_lexer": "ipython3",
   "version": "3.8.1"
  }
 },
 "nbformat": 4,
 "nbformat_minor": 2
}
